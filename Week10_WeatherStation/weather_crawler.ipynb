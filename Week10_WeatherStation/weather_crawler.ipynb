{
 "cells": [
  {
   "cell_type": "code",
   "execution_count": 1,
   "id": "1d986460",
   "metadata": {},
   "outputs": [],
   "source": [
    "import requests\n",
    "\n",
    "url_base = 'https://opendata.cwb.gov.tw/api/v1/rest/datastore/O-A0001-001'\n",
    "auth_code = 'Authorization=CWB-AA92238F-0B80-49A8-85F1-8E9D7768134C'\n",
    "format_code = 'format=JSON'\n",
    "\n",
    "# C0D660 新竹市東區 新竹市東區光復路二段321號-工研院光復院區6館\n",
    "station_id = 'stationId=C0D660'\n",
    "\n",
    "url = f'{url_base}?{auth_code}&{format_code}&{station_id}'\n",
    "response = requests.get(url)"
   ]
  },
  {
   "cell_type": "code",
   "execution_count": 4,
   "id": "99f45f28",
   "metadata": {},
   "outputs": [
    {
     "data": {
      "text/plain": [
       "{'success': 'true',\n",
       " 'result': {'resource_id': 'O-A0001-001',\n",
       "  'fields': [{'id': 'lat', 'type': 'Double'},\n",
       "   {'id': 'lon', 'type': 'Double'},\n",
       "   {'id': 'locationName', 'type': 'String'},\n",
       "   {'id': 'stationId', 'type': 'String'},\n",
       "   {'id': 'obsTime', 'type': 'Timestamp'},\n",
       "   {'id': 'elementName', 'type': 'String'},\n",
       "   {'id': 'elementValue', 'type': 'String'},\n",
       "   {'id': 'parameterName', 'type': 'String'},\n",
       "   {'id': 'parameterValue', 'type': 'String'}]},\n",
       " 'records': {'location': [{'lat': '24.800436',\n",
       "    'lon': '120.978742',\n",
       "    'locationName': '新竹市東區',\n",
       "    'stationId': 'C0D660',\n",
       "    'time': {'obsTime': '2023-04-19 11:00:00'},\n",
       "    'weatherElement': [{'elementName': 'ELEV', 'elementValue': '65.0'},\n",
       "     {'elementName': 'WDIR', 'elementValue': '253'},\n",
       "     {'elementName': 'WDSD', 'elementValue': '3.9'},\n",
       "     {'elementName': 'TEMP', 'elementValue': '30.5'},\n",
       "     {'elementName': 'HUMD', 'elementValue': '0.53'},\n",
       "     {'elementName': 'PRES', 'elementValue': '997.7'},\n",
       "     {'elementName': 'H_24R', 'elementValue': '0.0'},\n",
       "     {'elementName': 'H_FX', 'elementValue': '13.3'},\n",
       "     {'elementName': 'H_XD', 'elementValue': '249'},\n",
       "     {'elementName': 'H_FXT', 'elementValue': '2023-04-19T10:15:00+08:00'},\n",
       "     {'elementName': 'D_TX', 'elementValue': '31.00'},\n",
       "     {'elementName': 'D_TXT', 'elementValue': '2023-04-19T10:00:00+08:00'},\n",
       "     {'elementName': 'D_TN', 'elementValue': '23.70'},\n",
       "     {'elementName': 'D_TNT', 'elementValue': '2023-04-19T00:40:00+08:00'},\n",
       "     {'elementName': 'Weather', 'elementValue': '陰'}],\n",
       "    'parameter': [{'parameterName': 'CITY', 'parameterValue': '新竹市'},\n",
       "     {'parameterName': 'CITY_SN', 'parameterValue': '15'},\n",
       "     {'parameterName': 'TOWN', 'parameterValue': '東區'},\n",
       "     {'parameterName': 'TOWN_SN', 'parameterValue': '070'}]}]}}"
      ]
     },
     "execution_count": 4,
     "metadata": {},
     "output_type": "execute_result"
    }
   ],
   "source": [
    "data = response.json()\n",
    "data"
   ]
  },
  {
   "cell_type": "markdown",
   "id": "2f6bd41b",
   "metadata": {},
   "source": [
    "### 以下是氣象因子的代表意義：\n",
    "\n",
    "From ChatGPT\n",
    "```\n",
    "ELEV：地點的海拔高度\n",
    "WDIR：風向，通常以角度表示，例如0度代表正北、90度代表正東、180度代表正南、270度代表正西等\n",
    "WDSD：風速，通常以公尺/秒（m/s）表示\n",
    "TEMP：溫度，通常以攝氏溫度（°C）表示\n",
    "HUMD：相對濕度，通常以百分比（%）表示\n",
    "PRES：氣壓，通常以百帕（hPa）或千帕（kPa）表示\n",
    "SUN：日照時數，通常以小時（hr）表示\n",
    "H_24R：過去24小時累積雨量，通常以毫米（mm）表示\n",
    "WS15M：15分鐘平均風速，通常以公尺/秒（m/s）表示\n",
    "WD15M：15分鐘平均風向，通常以角度表示\n",
    "WS15T：近10分鐘最大風速，通常以公尺/秒（m/s）表示\n",
    "H_FXT：預測未來6小時內可能發生的天氣現象狀況，例如降雨、降雪、降冰雹等\n",
    "D_TXT：預測未來6小時內天氣現象狀況的文字描述\n",
    "D_TNT：預測未來6小時內天氣現象狀況的短暫文字描述\n",
    "Weather：天氣狀況的文字描述，通常包含天氣現象、溫度、風向、風速等資訊。\n",
    "```"
   ]
  },
  {
   "cell_type": "code",
   "execution_count": 12,
   "id": "209e94df",
   "metadata": {},
   "outputs": [
    {
     "data": {
      "text/plain": [
       "[{'elementName': 'ELEV', 'elementValue': '65.0'},\n",
       " {'elementName': 'WDIR', 'elementValue': '253'},\n",
       " {'elementName': 'WDSD', 'elementValue': '3.9'},\n",
       " {'elementName': 'TEMP', 'elementValue': '30.5'},\n",
       " {'elementName': 'HUMD', 'elementValue': '0.53'},\n",
       " {'elementName': 'PRES', 'elementValue': '997.7'},\n",
       " {'elementName': 'H_24R', 'elementValue': '0.0'},\n",
       " {'elementName': 'H_FX', 'elementValue': '13.3'},\n",
       " {'elementName': 'H_XD', 'elementValue': '249'},\n",
       " {'elementName': 'H_FXT', 'elementValue': '2023-04-19T10:15:00+08:00'},\n",
       " {'elementName': 'D_TX', 'elementValue': '31.00'},\n",
       " {'elementName': 'D_TXT', 'elementValue': '2023-04-19T10:00:00+08:00'},\n",
       " {'elementName': 'D_TN', 'elementValue': '23.70'},\n",
       " {'elementName': 'D_TNT', 'elementValue': '2023-04-19T00:40:00+08:00'},\n",
       " {'elementName': 'Weather', 'elementValue': '陰'}]"
      ]
     },
     "execution_count": 12,
     "metadata": {},
     "output_type": "execute_result"
    }
   ],
   "source": [
    "data['records']['location'][0]['weatherElement']"
   ]
  },
  {
   "cell_type": "code",
   "execution_count": 24,
   "id": "55d4f993",
   "metadata": {},
   "outputs": [],
   "source": [
    "for i in data['records']['location'][0]['weatherElement']:\n",
    "    if i['elementName'] == 'TEMP': temp = float(i['elementValue'])\n",
    "    if i['elementName'] == 'HUMD': humd = float(i['elementValue'])\n",
    "    if i['elementName'] == 'PRES': pres = float(i['elementValue'])\n",
    "    if i['elementName'] == 'H_24R': rain = float(i['elementValue'])"
   ]
  },
  {
   "cell_type": "code",
   "execution_count": 25,
   "id": "ee084471",
   "metadata": {},
   "outputs": [
    {
     "name": "stdout",
     "output_type": "stream",
     "text": [
      "Temp = 30.5\n",
      "Humd = 0.53\n",
      "Pres = 997.7\n",
      "Rain = 0.0\n"
     ]
    }
   ],
   "source": [
    "print('Temp =', temp)\n",
    "print('Humd =', humd)\n",
    "print('Pres =', pres)\n",
    "print('Rain =', rain)"
   ]
  }
 ],
 "metadata": {
  "kernelspec": {
   "display_name": "Python 3 (ipykernel)",
   "language": "python",
   "name": "python3"
  },
  "language_info": {
   "codemirror_mode": {
    "name": "ipython",
    "version": 3
   },
   "file_extension": ".py",
   "mimetype": "text/x-python",
   "name": "python",
   "nbconvert_exporter": "python",
   "pygments_lexer": "ipython3",
   "version": "3.10.4"
  }
 },
 "nbformat": 4,
 "nbformat_minor": 5
}
